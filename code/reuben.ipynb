{
 "cells": [
  {
   "cell_type": "markdown",
   "metadata": {},
   "source": [
    "## Air Quality, Reuben Thomas:"
   ]
  },
  {
   "cell_type": "markdown",
   "metadata": {},
   "source": [
    "![](https://media.giphy.com/media/l2JdWElOof1BxcRGM/giphy.gif)"
   ]
  },
  {
   "cell_type": "markdown",
   "metadata": {},
   "source": [
    "I am analyzing the Air Quality in the Pittsburgh area listed in the Daily Air Quality Index (AQI) Data, this is a list of data that recorded useful information in all of the seperate neighborhoods in April 10, 2023 (most recent day of recording).\n",
    "\n",
    "The Allegheny County Health Department monitors throughout the county to and are verified by qualified individuals. I will be looking at the AQI per neighborhood."
   ]
  },
  {
   "cell_type": "code",
   "execution_count": 3,
   "metadata": {},
   "outputs": [],
   "source": [
    "import geopandas as gpd\n",
    "import pandas as pd\n",
    "import matplotlib.pyplot as plt\n",
    "from shapely.geometry import Point"
   ]
  },
  {
   "cell_type": "code",
   "execution_count": 5,
   "metadata": {},
   "outputs": [
    {
     "data": {
      "text/html": [
       "<div>\n",
       "<style scoped>\n",
       "    .dataframe tbody tr th:only-of-type {\n",
       "        vertical-align: middle;\n",
       "    }\n",
       "\n",
       "    .dataframe tbody tr th {\n",
       "        vertical-align: top;\n",
       "    }\n",
       "\n",
       "    .dataframe thead th {\n",
       "        text-align: right;\n",
       "    }\n",
       "</style>\n",
       "<table border=\"1\" class=\"dataframe\">\n",
       "  <thead>\n",
       "    <tr style=\"text-align: right;\">\n",
       "      <th></th>\n",
       "      <th>date</th>\n",
       "      <th>site</th>\n",
       "      <th>parameter</th>\n",
       "      <th>index_value</th>\n",
       "      <th>description</th>\n",
       "      <th>health_advisory</th>\n",
       "      <th>health_effects</th>\n",
       "      <th>geometry</th>\n",
       "    </tr>\n",
       "  </thead>\n",
       "  <tbody>\n",
       "    <tr>\n",
       "      <th>0</th>\n",
       "      <td>2023-04-10</td>\n",
       "      <td>South Fayette</td>\n",
       "      <td>OZONE</td>\n",
       "      <td>64</td>\n",
       "      <td>Moderate</td>\n",
       "      <td>Unusually sensitive people should consider red...</td>\n",
       "      <td>Unusually sensitive individuals may experience...</td>\n",
       "      <td>None</td>\n",
       "    </tr>\n",
       "    <tr>\n",
       "      <th>1</th>\n",
       "      <td>2023-04-10</td>\n",
       "      <td>Liberty 2</td>\n",
       "      <td>PM25T</td>\n",
       "      <td>72</td>\n",
       "      <td>Moderate</td>\n",
       "      <td>Unusually sensitive people should consider red...</td>\n",
       "      <td>Respiratory symptoms possible in unusually sen...</td>\n",
       "      <td>None</td>\n",
       "    </tr>\n",
       "    <tr>\n",
       "      <th>2</th>\n",
       "      <td>2023-04-10</td>\n",
       "      <td>North Braddock</td>\n",
       "      <td>SO2</td>\n",
       "      <td>34</td>\n",
       "      <td>Good</td>\n",
       "      <td></td>\n",
       "      <td></td>\n",
       "      <td>None</td>\n",
       "    </tr>\n",
       "    <tr>\n",
       "      <th>3</th>\n",
       "      <td>2023-04-10</td>\n",
       "      <td>Harrison Township</td>\n",
       "      <td>NO2</td>\n",
       "      <td>17</td>\n",
       "      <td>Good</td>\n",
       "      <td></td>\n",
       "      <td></td>\n",
       "      <td>None</td>\n",
       "    </tr>\n",
       "    <tr>\n",
       "      <th>4</th>\n",
       "      <td>2023-04-10</td>\n",
       "      <td>Glassport High Street</td>\n",
       "      <td>PM10</td>\n",
       "      <td>21</td>\n",
       "      <td>Good</td>\n",
       "      <td></td>\n",
       "      <td></td>\n",
       "      <td>None</td>\n",
       "    </tr>\n",
       "  </tbody>\n",
       "</table>\n",
       "</div>"
      ],
      "text/plain": [
       "         date                   site parameter index_value description  \\\n",
       "0  2023-04-10          South Fayette     OZONE          64    Moderate   \n",
       "1  2023-04-10              Liberty 2     PM25T          72    Moderate   \n",
       "2  2023-04-10         North Braddock       SO2          34        Good   \n",
       "3  2023-04-10      Harrison Township       NO2          17        Good   \n",
       "4  2023-04-10  Glassport High Street      PM10          21        Good   \n",
       "\n",
       "                                     health_advisory  \\\n",
       "0  Unusually sensitive people should consider red...   \n",
       "1  Unusually sensitive people should consider red...   \n",
       "2                                                      \n",
       "3                                                      \n",
       "4                                                      \n",
       "\n",
       "                                      health_effects geometry  \n",
       "0  Unusually sensitive individuals may experience...     None  \n",
       "1  Respiratory symptoms possible in unusually sen...     None  \n",
       "2                                                        None  \n",
       "3                                                        None  \n",
       "4                                                        None  "
      ]
     },
     "execution_count": 5,
     "metadata": {},
     "output_type": "execute_result"
    }
   ],
   "source": [
    "neighborhood = gpd.read_file('airquality.csv')\n",
    "neighborhood.head()   #will show 5 datasets\n"
   ]
  },
  {
   "cell_type": "markdown",
   "metadata": {},
   "source": [
    "The data sample above showcases the date, site, parameter, AQI, and description. I am interested in only the site and AQIs."
   ]
  },
  {
   "cell_type": "code",
   "execution_count": 7,
   "metadata": {},
   "outputs": [
    {
     "name": "stdout",
     "output_type": "stream",
     "text": [
      "            Neighborhood  AQI\n",
      "0          South Fayette   64\n",
      "1              Liberty 2   72\n",
      "2         North Braddock   34\n",
      "3      Harrison Township   17\n",
      "4  Glassport High Street   21\n"
     ]
    }
   ],
   "source": [
    "neighborhoods = pd.DataFrame(columns=[\"Neighborhood\", \"AQI\"])\n",
    "neighborhoods[\"Neighborhood\"] = neighborhood[\"site\"]\n",
    "neighborhoods[\"AQI\"]=pd.to_numeric(neighborhood[\"index_value\"],errors=\"coerce\")\n",
    "print(neighborhoods.head())"
   ]
  },
  {
   "cell_type": "markdown",
   "metadata": {},
   "source": [
    "## Little bit more about AQI\n",
    "AQI is a numerical scale used to measure the air quality of a specific location. The AQI is designed to provide a simple and easy-to-understand way of communicating air quality to the general public. It is calculated based on the concentrations of various air pollutants, including ground-level ozone, particulate matter, carbon monoxide, sulfur dioxide, and nitrogen dioxide.\n",
    "\n",
    "The AQI is a range from 0 to 500, with higher numbers indicating worse air quality. The AQI is divided into six categories, each corresponding to a different level of health concern. We are only focused on two catagories since those are only relevant for the sample. These categories are:\n",
    "\n",
    "Good (0-50): Air quality is considered satisfactory, and air pollution poses little or no risk.\n",
    "\n",
    "Moderate (51-100): Air quality is acceptable, but some pollutants may cause moderate health concern for a very small number of people who are unusually sensitive to air pollution\n",
    "\n",
    "The AQI can be monitored in real-time using air quality sensors that measure the concentrations of air pollutants. This information is typically reported by government agencies."
   ]
  },
  {
   "cell_type": "code",
   "execution_count": 8,
   "metadata": {},
   "outputs": [
    {
     "data": {
      "text/html": [
       "<div>\n",
       "<style scoped>\n",
       "    .dataframe tbody tr th:only-of-type {\n",
       "        vertical-align: middle;\n",
       "    }\n",
       "\n",
       "    .dataframe tbody tr th {\n",
       "        vertical-align: top;\n",
       "    }\n",
       "\n",
       "    .dataframe thead th {\n",
       "        text-align: right;\n",
       "    }\n",
       "</style>\n",
       "<table border=\"1\" class=\"dataframe\">\n",
       "  <thead>\n",
       "    <tr style=\"text-align: right;\">\n",
       "      <th></th>\n",
       "      <th>Neighborhood</th>\n",
       "      <th>AQI</th>\n",
       "    </tr>\n",
       "  </thead>\n",
       "  <tbody>\n",
       "    <tr>\n",
       "      <th>19</th>\n",
       "      <td>Lawrenceville 2</td>\n",
       "      <td>4</td>\n",
       "    </tr>\n",
       "    <tr>\n",
       "      <th>12</th>\n",
       "      <td>Lawrenceville 2</td>\n",
       "      <td>4</td>\n",
       "    </tr>\n",
       "    <tr>\n",
       "      <th>17</th>\n",
       "      <td>Parkway East</td>\n",
       "      <td>10</td>\n",
       "    </tr>\n",
       "    <tr>\n",
       "      <th>16</th>\n",
       "      <td>North Braddock</td>\n",
       "      <td>13</td>\n",
       "    </tr>\n",
       "    <tr>\n",
       "      <th>3</th>\n",
       "      <td>Harrison Township</td>\n",
       "      <td>17</td>\n",
       "    </tr>\n",
       "    <tr>\n",
       "      <th>6</th>\n",
       "      <td>Pittsburgh</td>\n",
       "      <td>19</td>\n",
       "    </tr>\n",
       "    <tr>\n",
       "      <th>4</th>\n",
       "      <td>Glassport High Street</td>\n",
       "      <td>21</td>\n",
       "    </tr>\n",
       "    <tr>\n",
       "      <th>10</th>\n",
       "      <td>Pittsburgh</td>\n",
       "      <td>28</td>\n",
       "    </tr>\n",
       "    <tr>\n",
       "      <th>5</th>\n",
       "      <td>North Braddock</td>\n",
       "      <td>28</td>\n",
       "    </tr>\n",
       "    <tr>\n",
       "      <th>20</th>\n",
       "      <td>Liberty 2</td>\n",
       "      <td>29</td>\n",
       "    </tr>\n",
       "    <tr>\n",
       "      <th>9</th>\n",
       "      <td>Liberty</td>\n",
       "      <td>30</td>\n",
       "    </tr>\n",
       "    <tr>\n",
       "      <th>2</th>\n",
       "      <td>North Braddock</td>\n",
       "      <td>34</td>\n",
       "    </tr>\n",
       "    <tr>\n",
       "      <th>13</th>\n",
       "      <td>Parkway East</td>\n",
       "      <td>37</td>\n",
       "    </tr>\n",
       "    <tr>\n",
       "      <th>7</th>\n",
       "      <td>Parkway East</td>\n",
       "      <td>38</td>\n",
       "    </tr>\n",
       "    <tr>\n",
       "      <th>21</th>\n",
       "      <td>Avalon</td>\n",
       "      <td>42</td>\n",
       "    </tr>\n",
       "    <tr>\n",
       "      <th>18</th>\n",
       "      <td>Pittsburgh</td>\n",
       "      <td>43</td>\n",
       "    </tr>\n",
       "    <tr>\n",
       "      <th>11</th>\n",
       "      <td>Clairton</td>\n",
       "      <td>44</td>\n",
       "    </tr>\n",
       "    <tr>\n",
       "      <th>15</th>\n",
       "      <td>Lawrenceville</td>\n",
       "      <td>49</td>\n",
       "    </tr>\n",
       "    <tr>\n",
       "      <th>14</th>\n",
       "      <td>Harrison Township</td>\n",
       "      <td>49</td>\n",
       "    </tr>\n",
       "    <tr>\n",
       "      <th>8</th>\n",
       "      <td>North Braddock</td>\n",
       "      <td>52</td>\n",
       "    </tr>\n",
       "    <tr>\n",
       "      <th>0</th>\n",
       "      <td>South Fayette</td>\n",
       "      <td>64</td>\n",
       "    </tr>\n",
       "    <tr>\n",
       "      <th>1</th>\n",
       "      <td>Liberty 2</td>\n",
       "      <td>72</td>\n",
       "    </tr>\n",
       "  </tbody>\n",
       "</table>\n",
       "</div>"
      ],
      "text/plain": [
       "             Neighborhood  AQI\n",
       "19        Lawrenceville 2    4\n",
       "12        Lawrenceville 2    4\n",
       "17           Parkway East   10\n",
       "16         North Braddock   13\n",
       "3       Harrison Township   17\n",
       "6              Pittsburgh   19\n",
       "4   Glassport High Street   21\n",
       "10             Pittsburgh   28\n",
       "5          North Braddock   28\n",
       "20              Liberty 2   29\n",
       "9                 Liberty   30\n",
       "2          North Braddock   34\n",
       "13           Parkway East   37\n",
       "7            Parkway East   38\n",
       "21                 Avalon   42\n",
       "18             Pittsburgh   43\n",
       "11               Clairton   44\n",
       "15          Lawrenceville   49\n",
       "14      Harrison Township   49\n",
       "8          North Braddock   52\n",
       "0           South Fayette   64\n",
       "1               Liberty 2   72"
      ]
     },
     "execution_count": 8,
     "metadata": {},
     "output_type": "execute_result"
    }
   ],
   "source": [
    "neighborhoods.sort_values(\"AQI\")"
   ]
  },
  {
   "cell_type": "markdown",
   "metadata": {},
   "source": [
    "Here the sample is sorted by accending AQI where the top of the list conatins lower AQI values (best air qualities) and the bottom of the list contains higher AQI values (worst air qualities)."
   ]
  },
  {
   "cell_type": "code",
   "execution_count": 10,
   "metadata": {},
   "outputs": [
    {
     "data": {
      "text/plain": [
       "Text(0.5, 0, 'Site')"
      ]
     },
     "execution_count": 10,
     "metadata": {},
     "output_type": "execute_result"
    },
    {
     "data": {
      "image/png": "[encoded data removed]",
      "text/plain": [
       "<Figure size 720x432 with 1 Axes>"
      ]
     },
     "metadata": {
      "needs_background": "light"
     },
     "output_type": "display_data"
    }
   ],
   "source": [
    "neighborhoods.sort_values(\"AQI\", ascending=True).head(22).plot(kind=\"bar\", x=\"Neighborhood\",figsize=(10, 6))\n",
    "plt.ylabel(\"AQI\")\n",
    "plt.title(\"Air Quality Index in Every Site\")\n",
    "plt.xlabel(\"Site\")"
   ]
  },
  {
   "cell_type": "markdown",
   "metadata": {},
   "source": [
    "This graph displays the accending order of AQI values where we can visually see the comparisons of the least AQI value neighborhoods to the greatest."
   ]
  },
  {
   "cell_type": "markdown",
   "metadata": {},
   "source": [
    "## Conclusion \n",
    "Based on the data and graph I concude that the safest neighborhood in terms of air quality is Lawrenceville. With the latest AQI value which was taken on April 10, 2023 has recorded an index value of 4. This is an expetional air quality value, and the neighborhood has very low pollution. Other safe neighborhoods include:\n",
    "1. Lawrenceville\n",
    "2. Point Breeze North (Parkway East)\n",
    "3. North Braddock\n",
    "4. Harrison Township\n"
   ]
  },
  {
   "cell_type": "markdown",
   "metadata": {},
   "source": [
    "![](https://media.giphy.com/media/jB0UcPs3zWxxtlb9QV/giphy.gif)"
   ]
  }
 ],
 "metadata": {
  "kernelspec": {
   "display_name": "Python 3",
   "language": "python",
   "name": "python3"
  },
  "language_info": {
   "codemirror_mode": {
    "name": "ipython",
    "version": 3
   },
   "file_extension": ".py",
   "mimetype": "text/x-python",
   "name": "python",
   "nbconvert_exporter": "python",
   "pygments_lexer": "ipython3",
   "version": "3.8.3"
  }
 },
 "nbformat": 4,
 "nbformat_minor": 4
}
