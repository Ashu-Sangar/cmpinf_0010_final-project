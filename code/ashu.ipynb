{
 "cells": [
  {
   "cell_type": "markdown",
   "metadata": {},
   "source": [
    "# Environmental Impacts by Neighborhood\n",
    "\n",
    "## By Ashu Sangar\n",
    "\n",
    "Data set: [Illegal Dump Sites](https://data.wprdc.org/dataset/allegheny-county-illegal-dump-sites/resource/ee834d8d-ae71-4b3b-b02b-312ba321ff17?view_id=1988368f-ec43-430c-9478-bd31164c1326)"
   ]
  },
  {
   "cell_type": "code",
   "execution_count": 33,
   "metadata": {},
   "outputs": [
    {
     "data": {
      "text/html": [
       "<div>\n",
       "<style scoped>\n",
       "    .dataframe tbody tr th:only-of-type {\n",
       "        vertical-align: middle;\n",
       "    }\n",
       "\n",
       "    .dataframe tbody tr th {\n",
       "        vertical-align: top;\n",
       "    }\n",
       "\n",
       "    .dataframe thead th {\n",
       "        text-align: right;\n",
       "    }\n",
       "</style>\n",
       "<table border=\"1\" class=\"dataframe\">\n",
       "  <thead>\n",
       "    <tr style=\"text-align: right;\">\n",
       "      <th></th>\n",
       "      <th>site_name</th>\n",
       "      <th>Status</th>\n",
       "      <th>City</th>\n",
       "      <th>Neighborhood</th>\n",
       "      <th>estimated_tons</th>\n",
       "      <th>location_description</th>\n",
       "      <th>latitude</th>\n",
       "      <th>longitude</th>\n",
       "      <th>field_9</th>\n",
       "      <th>geometry</th>\n",
       "    </tr>\n",
       "  </thead>\n",
       "  <tbody>\n",
       "    <tr>\n",
       "      <th>0</th>\n",
       "      <td>St. Martin Street</td>\n",
       "      <td>Surveyed</td>\n",
       "      <td>Pittsburgh</td>\n",
       "      <td>Allentown</td>\n",
       "      <td>0.5</td>\n",
       "      <td></td>\n",
       "      <td>40.42221971</td>\n",
       "      <td>-79.99022525</td>\n",
       "      <td></td>\n",
       "      <td>None</td>\n",
       "    </tr>\n",
       "    <tr>\n",
       "      <th>1</th>\n",
       "      <td>Brosville Street</td>\n",
       "      <td>Surveyed</td>\n",
       "      <td>Pittsburgh</td>\n",
       "      <td>Allentown</td>\n",
       "      <td>3</td>\n",
       "      <td></td>\n",
       "      <td>40.42370101</td>\n",
       "      <td>-79.98657393</td>\n",
       "      <td></td>\n",
       "      <td>None</td>\n",
       "    </tr>\n",
       "    <tr>\n",
       "      <th>2</th>\n",
       "      <td>McCain Street</td>\n",
       "      <td>Surveyed</td>\n",
       "      <td>Pittsburgh</td>\n",
       "      <td>Allentown</td>\n",
       "      <td>1</td>\n",
       "      <td></td>\n",
       "      <td>40.42427063</td>\n",
       "      <td>-79.99022675</td>\n",
       "      <td></td>\n",
       "      <td>None</td>\n",
       "    </tr>\n",
       "  </tbody>\n",
       "</table>\n",
       "</div>"
      ],
      "text/plain": [
       "           site_name    Status        City Neighborhood estimated_tons  \\\n",
       "0  St. Martin Street  Surveyed  Pittsburgh    Allentown            0.5   \n",
       "1   Brosville Street  Surveyed  Pittsburgh    Allentown              3   \n",
       "2      McCain Street  Surveyed  Pittsburgh    Allentown              1   \n",
       "\n",
       "  location_description     latitude     longitude field_9 geometry  \n",
       "0                       40.42221971  -79.99022525             None  \n",
       "1                       40.42370101  -79.98657393             None  \n",
       "2                       40.42427063  -79.99022675             None  "
      ]
     },
     "execution_count": 33,
     "metadata": {},
     "output_type": "execute_result"
    }
   ],
   "source": [
    "import geopandas as gpd\n",
    "import pandas as pd\n",
    "\n",
    "# load dataset\n",
    "\n",
    "illegal_dsites = gpd.read_file('illegaldumpsites.csv')\n",
    "\n",
    "illegal_dsites.head(3)\n"
   ]
  },
  {
   "cell_type": "markdown",
   "metadata": {},
   "source": [
    "We see that the neighborhood name is contained in the column labeled \"Neighborhood\" and the amount of garbage in tons is contained in the \"estimated_tons\" column. This gives us the metric that is going to be used, whichever neighborgood has the least amount of illegal garbage will be deemed the best. "
   ]
  },
  {
   "cell_type": "code",
   "execution_count": 36,
   "metadata": {},
   "outputs": [
    {
     "name": "stdout",
     "output_type": "stream",
     "text": [
      "              Street        City Neighborhood Total Garbage Tons\n",
      "0  St. Martin Street  Pittsburgh    Allentown                0.5\n",
      "1   Brosville Street  Pittsburgh    Allentown                  3\n",
      "2      McCain Street  Pittsburgh    Allentown                  1\n",
      "3          Ceres Way  Pittsburgh    Allentown                0.5\n",
      "4      Eureka Street  Pittsburgh    Allentown                0.1\n"
     ]
    }
   ],
   "source": [
    "# In order to do this, since the Neighborhoods are in alplebetical order, we can use the groupby fuction in pandas in order to tally the total amount of garbage in each neighborhood. \n",
    "\n",
    "# create dataframe that simplifies given info\n",
    "\n",
    "nb_df = pd.DataFrame(columns = [\"Street\", \"City\", \"Neighborhood\", \"Total Garbage Tons\"])\n",
    "\n",
    "nb_df[\"Street\"] = illegal_dsites[\"site_name\"]\n",
    "nb_df[\"City\"] = illegal_dsites[\"City\"]\n",
    "nb_df[\"Neighborhood\"] = illegal_dsites[\"Neighborhood\"]\n",
    "nb_df[\"Total Garbage Tons\"] = illegal_dsites[\"estimated_tons\"]\n",
    "\n",
    "#display entire dataframe\n",
    "print(nb_df.head())\n"
   ]
  },
  {
   "cell_type": "code",
   "execution_count": 41,
   "metadata": {},
   "outputs": [
    {
     "name": "stdout",
     "output_type": "stream",
     "text": [
      "Neighborhood\n",
      "Allentown                         0.5310.50.150.3\n",
      "Arlington                     342.520.50.51.521.5\n",
      "Avalon                                     0.50.5\n",
      "Banksville                                      1\n",
      "Barking Slopes                                 12\n",
      "                                   ...           \n",
      "Wilkins                                 0.50.31.5\n",
      "Wilkins/Monroeville                           1.5\n",
      "Wilkinsburg               20.51.320.50.52.50.30.3\n",
      "Wilkinsburg/Penn Hills                          6\n",
      "Windgap                                   20.51.5\n",
      "Name: Total Garbage Tons, Length: 152, dtype: object\n"
     ]
    }
   ],
   "source": [
    "#groupby to show total garbage in each hood'\n",
    "#groupby to show total tons of each neighborhood + displaying\n",
    "\n",
    "neighborhood_totals = nb_df.groupby('Neighborhood')['Total Garbage Tons'].sum()\n",
    "\n",
    "print(neighborhood_totals)\n"
   ]
  },
  {
   "cell_type": "code",
   "execution_count": null,
   "metadata": {},
   "outputs": [],
   "source": []
  }
 ],
 "metadata": {
  "kernelspec": {
   "display_name": "Python 3",
   "language": "python",
   "name": "python3"
  },
  "language_info": {
   "codemirror_mode": {
    "name": "ipython",
    "version": 3
   },
   "file_extension": ".py",
   "mimetype": "text/x-python",
   "name": "python",
   "nbconvert_exporter": "python",
   "pygments_lexer": "ipython3",
   "version": "3.8.3"
  }
 },
 "nbformat": 4,
 "nbformat_minor": 4
}
